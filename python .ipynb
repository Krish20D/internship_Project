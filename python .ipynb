{
 "cells": [
  {
   "cell_type": "code",
   "execution_count": 31,
   "id": "66bf0424",
   "metadata": {},
   "outputs": [
    {
     "name": "stdout",
     "output_type": "stream",
     "text": [
      "Enter a number: 4\n",
      "The factorial of 4 is 24\n"
     ]
    }
   ],
   "source": [
    "# Q.11 python program to find the factorial of a number\n",
    "\n",
    "# Enter number by user \n",
    "\n",
    "num = int(input(\"Enter a number: \"))    \n",
    "\n",
    "factorial = 1   \n",
    "\n",
    "# Checking that given number is less than 0\n",
    "\n",
    "if num < 0:\n",
    "    print(\" Factorial does not exist for negative numbers\")   \n",
    "    \n",
    "# Checking that given number is equal to 0  \n",
    "    \n",
    "elif num == 0:\n",
    "    print(\"The factorial of 0 is 1\") \n",
    "    \n",
    "# Checking that given number is greater then 0\n",
    "    \n",
    "else:\n",
    "    for i in range(1,num + 1):\n",
    "        factorial = factorial*i\n",
    "    print(\"The factorial of\",num,\"is\",factorial)    "
   ]
  },
  {
   "cell_type": "code",
   "execution_count": 34,
   "id": "c46c47ee",
   "metadata": {},
   "outputs": [
    {
     "name": "stdout",
     "output_type": "stream",
     "text": [
      "Enter an input number:5\n",
      "5 is a prime number\n"
     ]
    }
   ],
   "source": [
    "# Q.12 Python program to find whether a number is prime or composite\n",
    "    \n",
    "#  default function for Prime checking conditions  \n",
    "\n",
    "def PrimeChecker(num):  \n",
    "# Checking that given number is more than 1  \n",
    "    if num > 1:  \n",
    "# Iterating over the given number with for loop  \n",
    "        for i in range(2, int(num/2) + 1):  \n",
    "# If the given number is divisible or not  \n",
    "            if (num % i) == 0:  \n",
    "                print(num, \"is not a prime number\")  \n",
    "                break  \n",
    "        # Else it is a prime number  \n",
    "        else:  \n",
    "            print(num, \"is a prime number\")  \n",
    "    # If the given number is 1  \n",
    "    else:  \n",
    "        print(num, \"is not a prime number\")  \n",
    "        \n",
    "# Taking an input number from the user  \n",
    "num = int(input(\"Enter an input number:\"))  \n",
    "# Printing result  \n",
    "PrimeChecker(num)  \n"
   ]
  },
  {
   "cell_type": "code",
   "execution_count": 35,
   "id": "62670858",
   "metadata": {},
   "outputs": [
    {
     "name": "stdout",
     "output_type": "stream",
     "text": [
      "Enter the string :mlm\n",
      "The string is \n",
      "mlm\n",
      "The string is a palindrome\n"
     ]
    }
   ],
   "source": [
    "# Q.13 python program to check whether a string is palindrome or not using recursion\n",
    "\n",
    "#  default function for string palindrome checking conditions  \n",
    "\n",
    "def check_palindrome(my_str):\n",
    "    if len(my_str) < 1:\n",
    "        return True\n",
    "    else:\n",
    "        if my_str[0] == my_str[-1]:\n",
    "            return check_palindrome(my_str[1:-1])\n",
    "        else:\n",
    "            return False\n",
    "        \n",
    "# enter the string by user      \n",
    "my_string = str(input(\"Enter the string :\"))\n",
    "print(\"The string is \")\n",
    "print(my_string)\n",
    "if(check_palindrome(my_string)==True):\n",
    "    print(\"The string is a palindrome\")\n",
    "else:\n",
    "    print(\"The string isn't a palindrome\")"
   ]
  },
  {
   "cell_type": "code",
   "execution_count": 38,
   "id": "f14b1c0b",
   "metadata": {},
   "outputs": [
    {
     "name": "stdout",
     "output_type": "stream",
     "text": [
      "Hypotenuse = 5.0\n",
      "Adjacent = 4.0\n",
      "Opposite = 3.0\n",
      "You know the answer!\n"
     ]
    }
   ],
   "source": [
    "# Q.14  python program to get the third side of right-angled triangle from two given sides\n",
    "\n",
    "#  default function for third side of right -angled triangle checking conditions \n",
    "\n",
    "def pythagoras(opposite_side,adjacent_side,hypotenuse):\n",
    "    #Find the oppsite side \n",
    "        if opposite_side == str(\"x\"):\n",
    "            return (\"Opposite = \" + str(((hypotenuse**2) - (adjacent_side**2))**0.5))\n",
    "    #Find the adjacent side \n",
    "        elif adjacent_side == str(\"y\"):\n",
    "            return (\"Adjacent = \" + str(((hypotenuse**2) - (opposite_side**2))**0.5))\n",
    "    # find the hypotenuse \n",
    "        elif hypotenuse == str(\"z\"):\n",
    "            return (\"Hypotenuse = \" + str(((opposite_side**2) + (adjacent_side**2))**0.5))\n",
    "    # All side are given \n",
    "        else:\n",
    "            return \"You know the answer!\"\n",
    "    \n",
    "print(pythagoras(3,4,'z'))\n",
    "print(pythagoras(3,'y',5))\n",
    "print(pythagoras('x',4,5))\n",
    "print(pythagoras(3,4,5))\n",
    "\n"
   ]
  },
  {
   "cell_type": "code",
   "execution_count": 39,
   "id": "78369abc",
   "metadata": {},
   "outputs": [
    {
     "name": "stdout",
     "output_type": "stream",
     "text": [
      "Enter the string :lamasskn\n",
      "Frequency of each character :\n",
      "  {'l': 1, 'a': 2, 'm': 1, 's': 2, 'k': 1, 'n': 1}\n"
     ]
    }
   ],
   "source": [
    " # Q.15 python program to print the frequency of each of the characters present in a given string.\n",
    "\n",
    "from collections import Counter\n",
    "\n",
    "# enter the string by user        \n",
    "strA = str(input(\"Enter the string :\"))\n",
    "\n",
    "# Using counter\n",
    "res = {}\n",
    "\n",
    "for keys in strA:\n",
    "    res[keys] = res.get(keys, 0) + 1\n",
    "\n",
    "# Result\n",
    "print(\"Frequency of each character :\\n \",res)\n",
    "\n",
    "\n"
   ]
  },
  {
   "cell_type": "code",
   "execution_count": null,
   "id": "91ed4a6d",
   "metadata": {},
   "outputs": [],
   "source": []
  },
  {
   "cell_type": "code",
   "execution_count": null,
   "id": "2487c0f9",
   "metadata": {},
   "outputs": [],
   "source": []
  }
 ],
 "metadata": {
  "kernelspec": {
   "display_name": "Python 3",
   "language": "python",
   "name": "python3"
  },
  "language_info": {
   "codemirror_mode": {
    "name": "ipython",
    "version": 3
   },
   "file_extension": ".py",
   "mimetype": "text/x-python",
   "name": "python",
   "nbconvert_exporter": "python",
   "pygments_lexer": "ipython3",
   "version": "3.8.8"
  }
 },
 "nbformat": 4,
 "nbformat_minor": 5
}
